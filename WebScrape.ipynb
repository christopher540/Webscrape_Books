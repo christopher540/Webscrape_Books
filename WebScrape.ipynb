{
  "nbformat": 4,
  "nbformat_minor": 0,
  "metadata": {
    "colab": {
      "provenance": []
    },
    "kernelspec": {
      "name": "python3",
      "display_name": "Python 3"
    },
    "language_info": {
      "name": "python"
    }
  },
  "cells": [
    {
      "cell_type": "code",
      "execution_count": 86,
      "metadata": {
        "id": "pcaOzSuXI1DW"
      },
      "outputs": [],
      "source": [
        "import requests\n",
        "from bs4 import BeautifulSoup\n",
        "from matplotlib import pyplot as plt"
      ]
    },
    {
      "cell_type": "code",
      "source": [
        "url='https://books.toscrape.com/catalogue/category/books_1/index.html'"
      ],
      "metadata": {
        "id": "AoNppC0AJCBy"
      },
      "execution_count": 87,
      "outputs": []
    },
    {
      "cell_type": "code",
      "source": [
        "response=requests.get(url)\n",
        "response"
      ],
      "metadata": {
        "colab": {
          "base_uri": "https://localhost:8080/"
        },
        "id": "jfFbvh5dJRTB",
        "outputId": "ba6181eb-5010-49c7-b18d-e527cea1788b"
      },
      "execution_count": 88,
      "outputs": [
        {
          "output_type": "execute_result",
          "data": {
            "text/plain": [
              "<Response [200]>"
            ]
          },
          "metadata": {},
          "execution_count": 88
        }
      ]
    },
    {
      "cell_type": "code",
      "source": [
        "response=response.content"
      ],
      "metadata": {
        "id": "qCczdEgTLkHN"
      },
      "execution_count": 89,
      "outputs": []
    },
    {
      "cell_type": "code",
      "source": [
        "soup=BeautifulSoup(response,'html.parser')"
      ],
      "metadata": {
        "id": "DPS4TV5tLqiY"
      },
      "execution_count": 90,
      "outputs": []
    },
    {
      "cell_type": "code",
      "source": [
        "ol=soup.find('ol')"
      ],
      "metadata": {
        "id": "XYmTK9mqMj9E"
      },
      "execution_count": 91,
      "outputs": []
    },
    {
      "cell_type": "code",
      "source": [
        "articles=ol.find_all('article',class_='product_pod')"
      ],
      "metadata": {
        "id": "TgO7IgIjMk4o"
      },
      "execution_count": 92,
      "outputs": []
    },
    {
      "cell_type": "code",
      "source": [
        "title=[]\n",
        "price=[]\n",
        "rating=[]\n",
        "for article in articles:\n",
        "  title.append(article.find('img')['alt'])\n",
        "  rating.append(article.find('p')['class'][1])\n",
        "  price.append(article.find('p',class_='price_color').text)\n"
      ],
      "metadata": {
        "id": "22_fB52eN0Er"
      },
      "execution_count": 93,
      "outputs": []
    },
    {
      "cell_type": "code",
      "source": [
        "df=pd.DataFrame([title,price,rating])\n",
        "df=df.T\n",
        "df.columns=['Title','Price','Rating']\n",
        "df['Rating'].replace({'One':1,'Two':2,'Three':3,'Four':4,'Five':5},inplace=True)\n",
        "df['Price']=df['Price'].str[1:]\n",
        "df['Price']=df['Price'].astype('float')"
      ],
      "metadata": {
        "id": "H7OB_wfcN0zD"
      },
      "execution_count": 94,
      "outputs": []
    },
    {
      "cell_type": "code",
      "source": [
        "df1=df.groupby('Rating')['Price'].mean()\n",
        "df1.index"
      ],
      "metadata": {
        "colab": {
          "base_uri": "https://localhost:8080/"
        },
        "id": "24YImeYNP7YJ",
        "outputId": "af091f83-206b-4499-91b2-83212a4a6266"
      },
      "execution_count": 95,
      "outputs": [
        {
          "output_type": "execute_result",
          "data": {
            "text/plain": [
              "Int64Index([1, 2, 3, 4, 5], dtype='int64', name='Rating')"
            ]
          },
          "metadata": {},
          "execution_count": 95
        }
      ]
    },
    {
      "cell_type": "code",
      "source": [
        "plt.bar(df1.index,df1.values)\n",
        "plt.title('Book Rating vs Price (USD)')\n",
        "plt.ylabel('Price (USD)')\n",
        "plt.xlabel('Rating')"
      ],
      "metadata": {
        "colab": {
          "base_uri": "https://localhost:8080/",
          "height": 489
        },
        "id": "EfbTUn7UTD8X",
        "outputId": "d09cc441-7668-4395-e5ad-2b6ff535be92"
      },
      "execution_count": 96,
      "outputs": [
        {
          "output_type": "execute_result",
          "data": {
            "text/plain": [
              "Text(0.5, 0, 'Rating')"
            ]
          },
          "metadata": {},
          "execution_count": 96
        },
        {
          "output_type": "display_data",
          "data": {
            "text/plain": [
              "<Figure size 640x480 with 1 Axes>"
            ],
            "image/png": "[encoded data removed]"
          },
          "metadata": {}
        }
      ]
    },
    {
      "cell_type": "code",
      "source": [],
      "metadata": {
        "id": "EtU1-JOBTcpV"
      },
      "execution_count": 96,
      "outputs": []
    }
  ]
}